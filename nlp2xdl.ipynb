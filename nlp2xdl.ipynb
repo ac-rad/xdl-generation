{
  "cells": [
    {
      "cell_type": "markdown",
      "metadata": {
        "id": "7gst_ArVt5L6"
      },
      "source": [
        "##Run All\n",
        "Enter necessary information in Startup [OPENAI_API_KEY, OPENAI_ORGANIZATION_ID] then press Ctrl+F9 (Windows) or Toolbar > Runtime > Run All"
      ]
    },
    {
      "cell_type": "code",
      "execution_count": null,
      "metadata": {
        "id": "Oq7AMwiBLPWv"
      },
      "outputs": [
        {
          "ename": "",
          "evalue": "",
          "output_type": "error",
          "traceback": [
            "\u001b[1;31mRunning cells with 'c:\\Users\\sebas\\AppData\\Local\\Programs\\Python\\Python311\\python.exe' requires the ipykernel package.\n",
            "\u001b[1;31mRun the following command to install 'ipykernel' into the Python environment. \n",
            "\u001b[1;31mCommand: 'c:/Users/sebas/AppData/Local/Programs/Python/Python311/python.exe -m pip install ipykernel -U --user --force-reinstall'"
          ]
        }
      ],
      "source": [
        "#@title Startup\n",
        "import os\n",
        "%pip install openai flask flask_socketio\n",
        "from verifier.verify import verify_xdl\n",
        "with open(\"XDL_description.txt\", \"r\") as f:\n",
        "  XDL_description = f.read()\n",
        "os.environ[\"OPENAI_API_KEY\"] = \"Enter OPENAI API KEY\"\n",
        "os.environ[\"OPENAI_ORGANIZATION_ID\"] = \"Enter OPENAI ORG ID\""
      ]
    },
    {
      "cell_type": "code",
      "execution_count": null,
      "metadata": {
        "cellView": "form",
        "id": "Dg2G7F7b_ki7"
      },
      "outputs": [],
      "source": [
        "#@title XDL Generation\n",
        "import os\n",
        "import openai\n",
        "\n",
        "def prompt(instructions, description, max_tokens, model=\"text-davinci-003\"):\n",
        "    if \"Enter\" in os.environ[\"OPENAI_API_KEY\"]:\n",
        "      raise Exception(\"Missing API_Key or ORG_ID\")\n",
        "\n",
        "    \"\"\"Function that calls the OpenAI API\"\"\"\n",
        "    if model == \"text-davinci-003\":\n",
        "        response = openai.Completion.create(\n",
        "            model=\"text-davinci-003\",\n",
        "            prompt=description + \"\\nConvert to XDL:\\n\" + instructions,\n",
        "            temperature=0,\n",
        "            max_tokens=max_tokens,\n",
        "            top_p=1,\n",
        "            frequency_penalty=0,\n",
        "            presence_penalty=0,\n",
        "        )\n",
        "        return response[\"choices\"][0][\"text\"]\n",
        "\n",
        "    elif model == \"gpt-3.5-turbo\" or model == \"gpt-4\":\n",
        "        if \"Enter\" in os.environ[\"OPENAI_ORGANIZATION_ID\"]:\n",
        "          raise Exception(\"Missing API_Key or ORG_ID\")\n",
        "        response = openai.ChatCompletion.create(\n",
        "            model=model,\n",
        "            messages = [\n",
        "                {\"role\":\"system\", \"content\":\"You are a natural language to XDL translator, you must also do your best to correct any incorrect XDL, only use items contained in the description, here is a description of XDL:\\n\"+description },\n",
        "                {\"role\":\"user\", \"content\": f\"\\nConvert/Correct the following to proper XDL:\\n{instructions}\"}\n",
        "            ],\n",
        "            temperature=0,\n",
        "            max_tokens=max_tokens,\n",
        "            top_p=1,\n",
        "            frequency_penalty=0,\n",
        "            presence_penalty=0,\n",
        "        )\n",
        "        return response[\"choices\"][0][\"message\"][\"content\"]\n",
        "\n",
        "\n",
        "def translate(input_xdl, model):\n",
        "    \"\"\"Function that translates the input XDL\"\"\"\n",
        "\n",
        "    openai.api_key = os.environ[\"OPENAI_API_KEY\"]\n",
        "    openai.organization = os.environ[\"OPENAI_ORGANIZATION_ID\"]\n",
        "\n",
        "    correct_syntax = False\n",
        "    errors = {}\n",
        "    prev_input_xdl = input_xdl\n",
        "\n",
        "    # Start 10 iteration for loop to limit token usage\n",
        "    for step in range(10):\n",
        "        try:\n",
        "            gpt3_output = prompt(input_xdl, XDL_description, 1000, model)\n",
        "        except Exception as e:\n",
        "            print(f\"\\u001b[31m{e}.\\033[0m Too many tokens required or invalid API key.\")\n",
        "            break\n",
        "        compile_correct = verify_xdl(gpt3_output)\n",
        "        errors[step] = {\n",
        "            \"errors\": compile_correct,\n",
        "            \"input_xdl\": input_xdl,\n",
        "            \"gpt3_output\": gpt3_output,\n",
        "        }\n",
        "        if not compile_correct:\n",
        "            correct_syntax = True\n",
        "            break\n",
        "        else:\n",
        "            error_list = set()\n",
        "            for item in compile_correct:\n",
        "                for error in item[\"errors\"]:\n",
        "                    error_list.add(error)\n",
        "            error_message = f\"\\n{gpt3_output}\\nThis XDL was not correct. These were the errors\\n{os.linesep.join(list(error_list))}\\nPlease fix the errors.\"\n",
        "            input_xdl = f\"{prev_input_xdl} {error_message}\"\n",
        "\n",
        "        print(\"gpt3_output:::\")\n",
        "        print(error_message, \"\\n\")\n",
        "    try:\n",
        "        if correct_syntax:\n",
        "            xdl = gpt3_output\n",
        "        else:\n",
        "            xdl = \"The correct XDL could not be generated.\"\n",
        "\n",
        "    except Exception as e:\n",
        "        print(f\"Error: {e}\")\n",
        "\n",
        "    print(f\"XDL: {xdl}\")\n",
        "    print(f\"Final syntax valid: {correct_syntax}\")\n",
        "    return xdl\n",
        "\n",
        "def main():\n",
        "    print(\"Welcome to the XDL Translator CLI!\")\n",
        "\n",
        "    input_xdl = input(\"Enter the text to be converted to XDL: \")\n",
        "    model = input(\"Choose the GPT model version (text-davinci-003, gpt-3.5-turbo, or gpt-4): \")\n",
        "\n",
        "    translated_xdl = translate(input_xdl, model)\n",
        "\n",
        "    print(translated_xdl)\n",
        "\n",
        "\n",
        "if __name__ == \"__main__\":\n",
        "    main()\n"
      ]
    }
  ],
  "metadata": {
    "colab": {
      "provenance": []
    },
    "kernelspec": {
      "display_name": "Python 3",
      "name": "python3"
    },
    "language_info": {
      "name": "python",
      "version": "3.11.3"
    }
  },
  "nbformat": 4,
  "nbformat_minor": 0
}
