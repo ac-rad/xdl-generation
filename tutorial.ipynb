{
  "nbformat": 4,
  "nbformat_minor": 0,
  "metadata": {
    "colab": {
      "provenance": []
    },
    "kernelspec": {
      "name": "python3",
      "display_name": "Python 3"
    },
    "language_info": {
      "name": "python"
    }
  },
  "cells": [
    {
      "cell_type": "markdown",
      "source": [
        "# CLAIRify tutorial\n",
        "\n",
        "This notebook describes how to use [CLAIRify](https://arxiv.org/abs/2303.14100).\n",
        "\n",
        "## Install"
      ],
      "metadata": {
        "id": "7gst_ArVt5L6"
      }
    },
    {
      "cell_type": "code",
      "source": [
        "!git clone https://github.com/ac-rad/xdl-generation\n",
        "%cd xdl-generation\n",
        "!git checkout clairify-cli\n",
        "!pip install -r requirements.txt"
      ],
      "metadata": {
        "id": "Oq7AMwiBLPWv"
      },
      "execution_count": null,
      "outputs": []
    },
    {
      "cell_type": "markdown",
      "source": [],
      "metadata": {
        "id": "ERQOPZUFoHU1"
      }
    },
    {
      "cell_type": "markdown",
      "source": [
        "## Set OpenAI API Key\n",
        "1. Get your OpenAI API Key from https://platform.openai.com/account/api-keys.\n",
        "2. Set your key in the code below.\n",
        "\n",
        "For a safer method to store your key, please refer to [Best Practices for API Key Safety](https://help.openai.com/en/articles/5112595-best-practices-for-api-key-safety)"
      ],
      "metadata": {
        "id": "q1XHblDEloUk"
      }
    },
    {
      "cell_type": "code",
      "source": [
        "import openai\n",
        "\n",
        "openai.api_key = \"YOUR_OPENAI_API_KEY\""
      ],
      "metadata": {
        "id": "Hyj_pk-amLid"
      },
      "execution_count": null,
      "outputs": []
    },
    {
      "cell_type": "markdown",
      "source": [
        "## XDL Generation\n",
        "\n",
        "You can generate XDL from natural language as below. Please read to [our paper](https://arxiv.org/abs/2303.14100) for the details of the method."
      ],
      "metadata": {
        "id": "FYSdXwMHmTQR"
      }
    },
    {
      "cell_type": "code",
      "source": [
        "from verify import verify_xdl\n",
        "from main import translate\n",
        "\n",
        "input_xdl = input(\"Enter the text to be converted to XDL: \")\n",
        "model = \"text-davinci-003\" # you can choose from \"text-davinci-003\", \"gpt-3.5-turbo\", and \"gpt-4\"\n",
        "\n",
        "translated_xdl = translate(input_xdl, model, verbose=True)\n",
        "\n",
        "print(\"Translated XDL:\")\n",
        "print(translated_xdl)"
      ],
      "metadata": {
        "id": "Dg2G7F7b_ki7"
      },
      "execution_count": null,
      "outputs": []
    }
  ]
}